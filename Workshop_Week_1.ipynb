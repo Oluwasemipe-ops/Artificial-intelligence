{
  "nbformat": 4,
  "nbformat_minor": 0,
  "metadata": {
    "kernelspec": {
      "display_name": "Python 3",
      "language": "python",
      "name": "python3"
    },
    "language_info": {
      "codemirror_mode": {
        "name": "ipython",
        "version": 3
      },
      "file_extension": ".py",
      "mimetype": "text/x-python",
      "name": "python",
      "nbconvert_exporter": "python",
      "pygments_lexer": "ipython3",
      "version": "3.8.2"
    },
    "colab": {
      "name": "Workshop Week 1.ipynb",
      "provenance": [],
      "include_colab_link": true
    }
  },
  "cells": [
    {
      "cell_type": "markdown",
      "metadata": {
        "id": "view-in-github",
        "colab_type": "text"
      },
      "source": [
        "<a href=\"https://colab.research.google.com/github/Oluwasemipe-ops/Artificial-intelligence/blob/main/Workshop_Week_1.ipynb\" target=\"_parent\"><img src=\"https://colab.research.google.com/assets/colab-badge.svg\" alt=\"Open In Colab\"/></a>"
      ]
    },
    {
      "cell_type": "markdown",
      "metadata": {
        "id": "QtD9QF9Tw5We"
      },
      "source": [
        "# COMP8325 Week 1 Workshop"
      ]
    },
    {
      "cell_type": "markdown",
      "metadata": {
        "id": "yhSDYbIBw5Wh"
      },
      "source": [
        "In Week 1 practical, our goal is to get familiar with tools we will be using throughout the semester to implement learnt concept from lectures. \n",
        "\n",
        "We will use [**Python**](https://www.python.org/) as a programming language for this unit. Python is one of the most sought after programming language as per Popularity of programming index [PYPL PopularitY of Programming Language](https://pypl.github.io/PYPL.html)\n",
        "\n",
        "We will be using [**Jupyter Notebook**](https://jupyter.org/) which is a free, open-source, interactive web tool that mixes text, code, and output of the code. Every week, we will provide you workshop notebook with instructions and questions which you have to work on. Below each question you will find space (cell in notebook) where you write code and execute it to get the output.\n",
        "\n",
        "To maintain our codebase, we will be using [**Git**](https://git-scm.com/) which is a free and open source distributed version control system (DVCS) designed to handle everything from small to very large projects with speed and efficiency. We will maintain a [**Github**](https://github.com/) repository, which is an internet repository hosting service provider for software development and version control using Git tools."
      ]
    },
    {
      "cell_type": "markdown",
      "metadata": {
        "id": "1Dq9zdw5w5Wj"
      },
      "source": [
        "## Python data structures"
      ]
    },
    {
      "cell_type": "markdown",
      "metadata": {
        "id": "S8YKXf83w5Wk"
      },
      "source": [
        "Python provides standard set of data structures in its library. Each data structure provides a particular way of organizing data so it can be accessed efficiently, depending on your use case."
      ]
    },
    {
      "cell_type": "markdown",
      "metadata": {
        "id": "U4YX4h0qw5Wm"
      },
      "source": [
        "### Python List"
      ]
    },
    {
      "cell_type": "markdown",
      "metadata": {
        "id": "oj7kRz1qw5Wq"
      },
      "source": [
        "In the cell below, there are three list. Our goal is to access elements from the list. \n",
        "- Get first element from each list\n",
        "- Get last element from each list\n",
        "- Get third and fourth element from each list"
      ]
    },
    {
      "cell_type": "code",
      "metadata": {
        "id": "VP9MMYAsw5Wr"
      },
      "source": [
        "friends_list = [\"Sam\", \"Luke\", \"Ariana\", \"Tim\", \"Peter\", \"Samantha\"]\n",
        "fruits = [\"apple\", \"orange\", \"pear\", \"grapes\", \"pineapple\", \"papaya\", \"banana\"]\n",
        "capital_cities = [\"Sydney\", \"Melbourne\", \"Brisbane\", \"Perth\", \"Adelaide\", \"Darwin\", \"Hobart\"]"
      ],
      "execution_count": null,
      "outputs": []
    },
    {
      "cell_type": "code",
      "metadata": {
        "id": "dCso7mMyw5Ws",
        "outputId": "3532508f-629d-4606-ee52-7c107b2c3ba9"
      },
      "source": [
        "# Write your code here to answer above question.\n",
        "print( \"The first Elements are: \" +friends_list[1] +\", \"+ fruits[1] +\" and \"+ capital_cities[1])\n",
        "print( \"The Last Elements are: \" +friends_list[-1] +\", \"+ fruits[-1] +\" and \"+ capital_cities[-1])\n",
        "print( \"The third and fourth Elements are: \" +friends_list[2] +\" and \"+friends_list[3] +\", \"+ fruits[2] + \" and \"+ fruits[3]+\", \"+ capital_cities[2]+\" and \"+ capital_cities[3])\n",
        "\n"
      ],
      "execution_count": null,
      "outputs": [
        {
          "output_type": "stream",
          "text": [
            "The first Elements are: Luke, orange and Melbourne\n",
            "The Last Elements are: Samantha, banana and Hobart\n",
            "The third and fourth Elements are: Ariana and Tim, pear and grapes, Brisbane and Perth\n"
          ],
          "name": "stdout"
        }
      ]
    },
    {
      "cell_type": "markdown",
      "metadata": {
        "id": "sUqLOxjew5Wv"
      },
      "source": [
        "### Python Dictionary"
      ]
    },
    {
      "cell_type": "markdown",
      "metadata": {
        "id": "3P6Futy1w5Wv"
      },
      "source": [
        "A dictionary is a collection of items. Each item in a dictionary is stored as a key-value pair. \n",
        "In the cell below, there are three dictionaries. Our goal is to retrieve value based on the key information.\n",
        "- Get the capital of South Australia (SA)\n",
        "- Get the address of the employee\n",
        "- Get marks obtained by student for the unit ISYS545"
      ]
    },
    {
      "cell_type": "code",
      "metadata": {
        "id": "OS3NXrdcw5Ww"
      },
      "source": [
        "capital = {'NSW': 'Sydney', 'VIC': 'Melbourne', 'SA': 'Adelaide', 'WA': 'Perth', 'QLD': 'Brisbane'}\n",
        "employee = {'name': 'John Citizen', 'age': 47, 'Address': '37 Sydney Street, NSW'}\n",
        "unit_marks = {'COMP8325': 88, 'COMP2345': 92, 'ISYS545': 72, 'COMP8472': 85}"
      ],
      "execution_count": null,
      "outputs": []
    },
    {
      "cell_type": "code",
      "metadata": {
        "id": "KP7YGUYOw5Wx",
        "outputId": "ee197976-dd4c-4383-f528-e7d32cc76586"
      },
      "source": [
        "# Write your code hereto answer above questions\n",
        "print(capital['SA'])\n",
        "print(employee['Address'])\n",
        "print(unit_marks['ISYS545'])"
      ],
      "execution_count": null,
      "outputs": [
        {
          "output_type": "stream",
          "text": [
            "Adelaide\n",
            "37 Sydney Street, NSW\n",
            "72\n"
          ],
          "name": "stdout"
        }
      ]
    },
    {
      "cell_type": "markdown",
      "metadata": {
        "id": "m_LP9Ui_w5Wx"
      },
      "source": [
        "### Python String"
      ]
    },
    {
      "cell_type": "markdown",
      "metadata": {
        "id": "jEoDL6XWw5Wx"
      },
      "source": [
        "A string is a sequence of characters enclosed either inside single quotes, double quotes, or even triple quotes. If string is long and encompasses multiline, we generally use triple quotes to represent it. Python has a set of built-in methods that you can use on strings. A non-exhaustive list can be found [here](https://www.w3schools.com/python/python_ref_string.asp).\n",
        "\n",
        "Below, we create three strings to represent unit code, unit name, and its description. Note we are using different set of quotes to represent strings and they are equivalent in terms of representing strings in Python."
      ]
    },
    {
      "cell_type": "code",
      "metadata": {
        "id": "xRXfHIO7w5Wy"
      },
      "source": [
        "code = \"COMP8325\"\n",
        "title = \"Applications of Artificial Intelligence for Cyber Security\"\n",
        "description = \"\"\"This unit deals with the applications of Artificial Intelligence \n",
        "                in the field of Cyber Security. Topics covered include machine learning-based \n",
        "                intrusion detection systems, malware detection, AI as a service, digital forensics, \n",
        "                incident response leveraging SIEM data. Special attention will be given to the \n",
        "                concept of adversarial machine learning.\"\"\""
      ],
      "execution_count": null,
      "outputs": []
    },
    {
      "cell_type": "markdown",
      "metadata": {
        "id": "v1FnIkaJw5Wz"
      },
      "source": [
        "For each of the given strings, get list of words using [split()](https://docs.python.org/3/library/stdtypes.html) method and count number of words to get length of each string."
      ]
    },
    {
      "cell_type": "code",
      "metadata": {
        "id": "E2pjXe-gw5Wz",
        "outputId": "8eeed079-796e-46f8-861a-8e873bd9b511"
      },
      "source": [
        "len(code.split())\n",
        "len(title.split())\n",
        "len(description.split())\n"
      ],
      "execution_count": null,
      "outputs": [
        {
          "output_type": "execute_result",
          "data": {
            "text/plain": [
              "48"
            ]
          },
          "metadata": {
            "tags": []
          },
          "execution_count": 44
        }
      ]
    },
    {
      "cell_type": "markdown",
      "metadata": {
        "id": "hgot9H8Lw5W0"
      },
      "source": [
        "When counting length of a string, it is important that you convert string to lower case so that word `The` and `the` are considered as same word. It is because Python is a case sensitive language and treat variable differently depending on how we define it."
      ]
    },
    {
      "cell_type": "markdown",
      "metadata": {
        "id": "jbE6ewx7w5W1"
      },
      "source": [
        "Convert the above string to lower case using lower() function and check whether you see any difference in terms of its length. To find out build-in function for converting string to lower case, check Python 3 documentation."
      ]
    },
    {
      "cell_type": "code",
      "metadata": {
        "id": "2XGcB3Huw5W2",
        "outputId": "977374df-c6ae-45b2-aa0a-a13f2ee4df81"
      },
      "source": [
        "len(code.lower().split())\n",
        "len(title.lower().split())\n",
        "len(description.lower().split())"
      ],
      "execution_count": null,
      "outputs": [
        {
          "output_type": "execute_result",
          "data": {
            "text/plain": [
              "48"
            ]
          },
          "metadata": {
            "tags": []
          },
          "execution_count": 48
        }
      ]
    },
    {
      "cell_type": "markdown",
      "metadata": {
        "id": "ey4PdLKAw5W3"
      },
      "source": [
        "In real-world applications, we do not get very clean text data. You can imagine how Twitter data can be noisy. To give you an idea, we define a string containing various punctuation. Using Regular Expression (regex, in short), try to clean the given noisy string. You can find [this regex tutorial](https://regexone.com/) helpful for this exercise."
      ]
    },
    {
      "cell_type": "code",
      "metadata": {
        "id": "H3cUMszFw5W4"
      },
      "source": [
        "noisy_string = \"Th!is ?is a$ s@en!!te?!nce.\""
      ],
      "execution_count": null,
      "outputs": []
    },
    {
      "cell_type": "code",
      "metadata": {
        "id": "eaL0umpXw5W5"
      },
      "source": [
        "clean_string = re.sub(\"[^\\w\\s]\", \"\", a_string)"
      ],
      "execution_count": null,
      "outputs": []
    },
    {
      "cell_type": "markdown",
      "metadata": {
        "id": "bLx0_us7w5W6"
      },
      "source": [
        "### Python Tuples"
      ]
    },
    {
      "cell_type": "markdown",
      "metadata": {
        "id": "LuW4GSCRw5W7"
      },
      "source": [
        "Tuples are also Python built-in data types which are immutable. Once defined, no element can be added or deleted from a tuple. This functionality is useful in situations where you might want someone to process data but don't want to manipulate it. We define tuples by placing round brackets around the data elements. Tuple items are indexed with first item having index [0], second item having index [1], and so on."
      ]
    },
    {
      "cell_type": "code",
      "metadata": {
        "id": "MUVuu6H0w5W7"
      },
      "source": [
        "automotive_brands = (\"Nissan\", \"Toyota\", \"Mitsubishi\", \"MBW\", \"Ford\", \"Audi\")"
      ],
      "execution_count": null,
      "outputs": []
    },
    {
      "cell_type": "markdown",
      "metadata": {
        "id": "A8N1uPDFw5W8"
      },
      "source": [
        "Get first and fourth element in the tuple defined above"
      ]
    },
    {
      "cell_type": "code",
      "metadata": {
        "id": "UI4lZE7Xw5W8",
        "outputId": "89cfbb0a-fc0d-48a6-9cff-319617adfa89"
      },
      "source": [
        "# Write your code here to answer above question\n",
        "\n",
        "print(\"The first Element is \" +automotive_brands[0]+\" and the Fourth Element is \"+ automotive_brands[3])"
      ],
      "execution_count": null,
      "outputs": [
        {
          "output_type": "stream",
          "text": [
            "The first Element is Nissan and the Fourth Element is MBW\n"
          ],
          "name": "stdout"
        }
      ]
    },
    {
      "cell_type": "markdown",
      "metadata": {
        "id": "rLY_3Cmvw5W9"
      },
      "source": [
        "## Python control structures"
      ]
    },
    {
      "cell_type": "markdown",
      "metadata": {
        "id": "prIhC71uw5W9"
      },
      "source": [
        "In the cell below, I have copied excerpt from *Repetition*, a book written by Peter Handke, Nobel Laureate for Literature in 2019 [Source](https://www.nobelprize.org/prizes/literature/2019/handke/prose/). The goal here is to provide you understanding of various Python control structures. Follow along the questions to work on this."
      ]
    },
    {
      "cell_type": "code",
      "metadata": {
        "id": "bhk9duWiw5W-"
      },
      "source": [
        "text = \"\"\"Alone during the day, in my room or out of doors, I thought аbout the waiter more \n",
        "          than about my раrеnts; as I now realize, it was а kind of love. I had nо desire for \n",
        "          contact, I wanted only to bе near him, and I missed him on his day off. When he finally \n",
        "          reappeared, his black-and-white attire brought lifе into the rооm and I acquired а sense \n",
        "          of color. Не always kept his distance, even when off duty, and that may have accounted for \n",
        "          my affection. Оnе day I ran into him in his street clothes at the bus-station buffet, \n",
        "          now in the role of а guest, and there was no difference between the waiter at the hotel \n",
        "          and the young man in the gray suit with а raincoat over his аrm, resting оnе foot on the \n",
        "          railing and slowly munching а sausage while watching the departing buses. And perhaps \n",
        "          this aloofness in combination with his attentiveness аnd poise were the components of \n",
        "          the beauty that so moved me. Even today, in а predicament, I think about that waiter’s \n",
        "          poise; it doesn’t usually help much, but it brings back his image, and for the moment at \n",
        "          least I regain my composure.\n",
        "          \n",
        "          Тoward midnight, оn my last day in the Black Earth Hotel – all the guests and the cook, too, \n",
        "          had left – I passed the open kitchen on my way to my room аnd saw the waiter sitting bу а \n",
        "          tub full of dishes, using а tablecloth to dry them. Later, when I looked out of my window, \n",
        "          he was standing in his shirtsleeves on the bridge across the torrent, holding а pile of \n",
        "          dishes under his right аrm. With his left hand, he took one after another and with а smooth \n",
        "          graceful movement sent them sailing into the water like so many Frisbees.\"\"\""
      ],
      "execution_count": null,
      "outputs": []
    },
    {
      "cell_type": "markdown",
      "metadata": {
        "id": "CY63efLGw5XA"
      },
      "source": [
        "You can use `for` loop to iterate over a sequence. Write a for loop to count how many times does `comma` (,) appear in the text."
      ]
    },
    {
      "cell_type": "code",
      "metadata": {
        "id": "snEXMmq0w5XA",
        "outputId": "dcec4e15-94f2-45a2-8d00-a51f432701d8"
      },
      "source": [
        "# Write your code here to answer the above question\n",
        "x=0\n",
        "y=','\n",
        "for y in text:\n",
        "    if y == ',':\n",
        "     x+=1\n",
        "print (x)"
      ],
      "execution_count": null,
      "outputs": [
        {
          "output_type": "stream",
          "text": [
            "23\n"
          ],
          "name": "stdout"
        }
      ]
    },
    {
      "cell_type": "markdown",
      "metadata": {
        "id": "cymStwVww5XB"
      },
      "source": [
        "Using for loop, count how many times word `the` is appearing in the text."
      ]
    },
    {
      "cell_type": "code",
      "metadata": {
        "id": "JBjHVRPww5XB",
        "outputId": "39dea7c6-fc58-4a39-cbaa-fde3539c6f27"
      },
      "source": [
        "# Write your code here to answer the above question\n",
        "a= text.lower().split()\n",
        "z=0\n",
        "for b in a:\n",
        "    if b =='the':\n",
        "        z+=1\n",
        "print(z)"
      ],
      "execution_count": null,
      "outputs": [
        {
          "output_type": "stream",
          "text": [
            "22\n"
          ],
          "name": "stdout"
        }
      ]
    },
    {
      "cell_type": "markdown",
      "metadata": {
        "id": "C6UHkx1Cw5XC"
      },
      "source": [
        "Find unique number of words in the given text. Note: You need to convert text into lower case, clean the text by removing non-desired punctuations, and consider whether you want to consider words such as `bus-station` as a single word or two words by splitting it based on `-`."
      ]
    },
    {
      "cell_type": "code",
      "metadata": {
        "id": "kWBvJrdbw5XC",
        "outputId": "2277f7da-847f-4de5-e696-9511b76ff3e5"
      },
      "source": [
        "# Write your code here to answer the above question\n",
        "text = text.lower()\n",
        "words = text.split()\n",
        "words = [word.strip('-.,!;()[]') for word in words]\n",
        "\n",
        "unique = []\n",
        "for word in words:\n",
        "    if word not in unique:\n",
        "        unique.append(word)\n",
        "\n",
        "len(unique)\n"
      ],
      "execution_count": null,
      "outputs": [
        {
          "output_type": "execute_result",
          "data": {
            "text/plain": [
              "180"
            ]
          },
          "metadata": {
            "tags": []
          },
          "execution_count": 90
        }
      ]
    },
    {
      "cell_type": "markdown",
      "metadata": {
        "id": "qqGRn1Yxw5XC"
      },
      "source": [
        "After finishing this workshop, commit your work to your Github repository. Show your finished and committed notebook on Github to your tutor."
      ]
    }
  ]
}