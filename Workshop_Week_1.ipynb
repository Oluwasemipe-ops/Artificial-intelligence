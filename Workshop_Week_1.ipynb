{
  "cells": [
    {
      "cell_type": "markdown",
      "metadata": {
        "colab_type": "text",
        "id": "view-in-github"
      },
      "source": [
        "<a href=\"https://colab.research.google.com/github/Oluwasemipe-ops/Artificial-intelligence/blob/main/Workshop_Week_1.ipynb\" target=\"_parent\"><img src=\"https://colab.research.google.com/assets/colab-badge.svg\" alt=\"Open In Colab\"/></a>"
      ]
    },
    {
      "cell_type": "markdown",
      "metadata": {
        "id": "QtD9QF9Tw5We"
      },
      "source": [
        "# COMP8325 Week 1 Workshop"
      ]
    },
    {
      "cell_type": "markdown",
      "metadata": {
        "id": "yhSDYbIBw5Wh"
      },
      "source": [
        "In Week 1 practical, our goal is to get familiar with tools we will be using throughout the semester to implement learnt concept from lectures. \n",
        "\n",
        "We will use [**Python**](https://www.python.org/) as a programming language for this unit. Python is one of the most sought after programming language as per Popularity of programming index [PYPL PopularitY of Programming Language](https://pypl.github.io/PYPL.html)\n",
        "\n",
        "We will be using [**Jupyter Notebook**](https://jupyter.org/) which is a free, open-source, interactive web tool that mixes text, code, and output of the code. Every week, we will provide you workshop notebook with instructions and questions which you have to work on. Below each question you will find space (cell in notebook) where you write code and execute it to get the output.\n",
        "\n",
        "To maintain our codebase, we will be using [**Git**](https://git-scm.com/) which is a free and open source distributed version control system (DVCS) designed to handle everything from small to very large projects with speed and efficiency. We will maintain a [**Github**](https://github.com/) repository, which is an internet repository hosting service provider for software development and version control using Git tools."
      ]
    },
    {
      "cell_type": "markdown",
      "metadata": {
        "id": "1Dq9zdw5w5Wj"
      },
      "source": [
        "## Python data structures"
      ]
    },
    {
      "cell_type": "markdown",
      "metadata": {
        "id": "S8YKXf83w5Wk"
      },
      "source": [
        "Python provides standard set of data structures in its library. Each data structure provides a particular way of organizing data so it can be accessed efficiently, depending on your use case."
      ]
    },
    {
      "cell_type": "markdown",
      "metadata": {
        "id": "U4YX4h0qw5Wm"
      },
      "source": [
        "### Python List"
      ]
    },
    {
      "cell_type": "markdown",
      "metadata": {
        "id": "oj7kRz1qw5Wq"
      },
      "source": [
        "In the cell below, there are three list. Our goal is to access elements from the list. \n",
        "- Get first element from each list\n",
        "- Get last element from each list\n",
        "- Get third and fourth element from each list"
      ]
    },
    {
      "cell_type": "code",
      "execution_count": 20,
      "metadata": {
        "id": "VP9MMYAsw5Wr"
      },
      "outputs": [],
      "source": [
        "friends_list = [\"Sam\", \"Luke\", \"Ariana\", \"Tim\", \"Peter\", \"Samantha\"]\n",
        "fruits = [\"apple\", \"orange\", \"pear\", \"grapes\", \"pineapple\", \"papaya\", \"banana\"]\n",
        "capital_cities = [\"Sydney\", \"Melbourne\", \"Brisbane\", \"Perth\", \"Adelaide\", \"Darwin\", \"Hobart\"]"
      ]
    },
    {
      "cell_type": "code",
      "execution_count": 21,
      "metadata": {
        "id": "dCso7mMyw5Ws",
        "outputId": "3532508f-629d-4606-ee52-7c107b2c3ba9"
      },
      "outputs": [
        {
          "name": "stdout",
          "output_type": "stream",
          "text": [
            "The first Elements are: Luke, orange and Melbourne\n",
            "The Last Elements are: Samantha, banana and Hobart\n",
            "The third and fourth Elements are: Ariana and Tim, pear and grapes, Brisbane and Perth\n"
          ]
        }
      ],
      "source": [
        "# Write your code here to answer above question.\n",
        "print( \"The first Elements are: \" +friends_list[1] +\", \"+ fruits[1] +\" and \"+ capital_cities[1])\n",
        "print( \"The Last Elements are: \" +friends_list[-1] +\", \"+ fruits[-1] +\" and \"+ capital_cities[-1])\n",
        "print( \"The third and fourth Elements are: \" +friends_list[2] +\" and \"+friends_list[3] +\", \"+ fruits[2] + \" and \"+ fruits[3]+\", \"+ capital_cities[2]+\" and \"+ capital_cities[3])\n",
        "\n"
      ]
    },
    {
      "cell_type": "markdown",
      "metadata": {
        "id": "sUqLOxjew5Wv"
      },
      "source": [
        "### Python Dictionary"
      ]
    },
    {
      "cell_type": "markdown",
      "metadata": {
        "id": "3P6Futy1w5Wv"
      },
      "source": [
        "A dictionary is a collection of items. Each item in a dictionary is stored as a key-value pair. \n",
        "In the cell below, there are three dictionaries. Our goal is to retrieve value based on the key information.\n",
        "- Get the capital of South Australia (SA)\n",
        "- Get the address of the employee\n",
        "- Get marks obtained by student for the unit ISYS545"
      ]
    },
    {
      "cell_type": "code",
      "execution_count": 22,
      "metadata": {
        "id": "OS3NXrdcw5Ww"
      },
      "outputs": [],
      "source": [
        "capital = {'NSW': 'Sydney', 'VIC': 'Melbourne', 'SA': 'Adelaide', 'WA': 'Perth', 'QLD': 'Brisbane'}\n",
        "employee = {'name': 'John Citizen', 'age': 47, 'Address': '37 Sydney Street, NSW'}\n",
        "unit_marks = {'COMP8325': 88, 'COMP2345': 92, 'ISYS545': 72, 'COMP8472': 85}"
      ]
    },
    {
      "cell_type": "code",
      "execution_count": 23,
      "metadata": {
        "id": "KP7YGUYOw5Wx",
        "outputId": "ee197976-dd4c-4383-f528-e7d32cc76586"
      },
      "outputs": [
        {
          "name": "stdout",
          "output_type": "stream",
          "text": [
            "Adelaide\n",
            "37 Sydney Street, NSW\n",
            "72\n"
          ]
        }
      ],
      "source": [
        "# Write your code hereto answer above questions\n",
        "print(capital['SA'])\n",
        "print(employee['Address'])\n",
        "print(unit_marks['ISYS545'])"
      ]
    },
    {
      "cell_type": "markdown",
      "metadata": {
        "id": "m_LP9Ui_w5Wx"
      },
      "source": [
        "### Python String"
      ]
    },
    {
      "cell_type": "markdown",
      "metadata": {
        "id": "jEoDL6XWw5Wx"
      },
      "source": [
        "A string is a sequence of characters enclosed either inside single quotes, double quotes, or even triple quotes. If string is long and encompasses multiline, we generally use triple quotes to represent it. Python has a set of built-in methods that you can use on strings. A non-exhaustive list can be found [here](https://www.w3schools.com/python/python_ref_string.asp).\n",
        "\n",
        "Below, we create three strings to represent unit code, unit name, and its description. Note we are using different set of quotes to represent strings and they are equivalent in terms of representing strings in Python."
      ]
    },
    {
      "cell_type": "code",
      "execution_count": 24,
      "metadata": {
        "id": "xRXfHIO7w5Wy"
      },
      "outputs": [],
      "source": [
        "code = \"COMP8325\"\n",
        "title = \"Applications of Artificial Intelligence for Cyber Security\"\n",
        "description = \"\"\"This unit deals with the applications of Artificial Intelligence \n",
        "                in the field of Cyber Security. Topics covered include machine learning-based \n",
        "                intrusion detection systems, malware detection, AI as a service, digital forensics, \n",
        "                incident response leveraging SIEM data. Special attention will be given to the \n",
        "                concept of adversarial machine learning.\"\"\""
      ]
    },
    {
      "cell_type": "markdown",
      "metadata": {
        "id": "v1FnIkaJw5Wz"
      },
      "source": [
        "For each of the given strings, get list of words using [split()](https://docs.python.org/3/library/stdtypes.html) method and count number of words to get length of each string."
      ]
    },
    {
      "cell_type": "code",
      "execution_count": 25,
      "metadata": {
        "id": "E2pjXe-gw5Wz",
        "outputId": "8eeed079-796e-46f8-861a-8e873bd9b511"
      },
      "outputs": [
        {
          "data": {
            "text/plain": [
              "48"
            ]
          },
          "execution_count": 25,
          "metadata": {},
          "output_type": "execute_result"
        }
      ],
      "source": [
        "len(code.split())\n",
        "len(title.split())\n",
        "len(description.split())\n"
      ]
    },
    {
      "cell_type": "markdown",
      "metadata": {
        "id": "hgot9H8Lw5W0"
      },
      "source": [
        "When counting length of a string, it is important that you convert string to lower case so that word `The` and `the` are considered as same word. It is because Python is a case sensitive language and treat variable differently depending on how we define it."
      ]
    },
    {
      "cell_type": "markdown",
      "metadata": {
        "id": "jbE6ewx7w5W1"
      },
      "source": [
        "Convert the above string to lower case using lower() function and check whether you see any difference in terms of its length. To find out build-in function for converting string to lower case, check Python 3 documentation."
      ]
    },
    {
      "cell_type": "code",
      "execution_count": 26,
      "metadata": {
        "id": "2XGcB3Huw5W2",
        "outputId": "977374df-c6ae-45b2-aa0a-a13f2ee4df81"
      },
      "outputs": [
        {
          "data": {
            "text/plain": [
              "48"
            ]
          },
          "execution_count": 26,
          "metadata": {},
          "output_type": "execute_result"
        }
      ],
      "source": [
        "len(code.lower().split())\n",
        "len(title.lower().split())\n",
        "len(description.lower().split())"
      ]
    },
    {
      "cell_type": "markdown",
      "metadata": {
        "id": "ey4PdLKAw5W3"
      },
      "source": [
        "In real-world applications, we do not get very clean text data. You can imagine how Twitter data can be noisy. To give you an idea, we define a string containing various punctuation. Using Regular Expression (regex, in short), try to clean the given noisy string. You can find [this regex tutorial](https://regexone.com/) helpful for this exercise."
      ]
    },
    {
      "cell_type": "code",
      "execution_count": 27,
      "metadata": {
        "id": "H3cUMszFw5W4"
      },
      "outputs": [],
      "source": [
        "noisy_string = \"Th!is ?is a$ s@en!!te?!nce.\""
      ]
    },
    {
      "cell_type": "code",
      "execution_count": 28,
      "metadata": {
        "id": "eaL0umpXw5W5"
      },
      "outputs": [
        {
          "ename": "AttributeError",
          "evalue": "'str' object has no attribute 'sub'",
          "output_type": "error",
          "traceback": [
            "\u001b[0;31m---------------------------------------------------------------------------\u001b[0m",
            "\u001b[0;31mAttributeError\u001b[0m                            Traceback (most recent call last)",
            "\u001b[0;32m/var/folders/b3/j49hknyn21v4hg7dyh1rws600000gn/T/ipykernel_18795/105149016.py\u001b[0m in \u001b[0;36m<module>\u001b[0;34m\u001b[0m\n\u001b[0;32m----> 1\u001b[0;31m \u001b[0mclean_string\u001b[0m \u001b[0;34m=\u001b[0m \u001b[0mnoisy_string\u001b[0m\u001b[0;34m.\u001b[0m\u001b[0msub\u001b[0m\u001b[0;34m(\u001b[0m\u001b[0;34m\"[^\\w\\s]\"\u001b[0m\u001b[0;34m,\u001b[0m \u001b[0;34m\"\"\u001b[0m\u001b[0;34m,\u001b[0m \u001b[0ma_string\u001b[0m\u001b[0;34m)\u001b[0m\u001b[0;34m\u001b[0m\u001b[0;34m\u001b[0m\u001b[0m\n\u001b[0m",
            "\u001b[0;31mAttributeError\u001b[0m: 'str' object has no attribute 'sub'"
          ]
        }
      ],
      "source": [
        "# clean_string = noisy_string.sub(\"[^\\w\\s]\", \"\", a_string)"
      ]
    },
    {
      "cell_type": "markdown",
      "metadata": {
        "id": "bLx0_us7w5W6"
      },
      "source": [
        "### Python Tuples"
      ]
    },
    {
      "cell_type": "markdown",
      "metadata": {
        "id": "LuW4GSCRw5W7"
      },
      "source": [
        "Tuples are also Python built-in data types which are immutable. Once defined, no element can be added or deleted from a tuple. This functionality is useful in situations where you might want someone to process data but don't want to manipulate it. We define tuples by placing round brackets around the data elements. Tuple items are indexed with first item having index [0], second item having index [1], and so on."
      ]
    },
    {
      "cell_type": "code",
      "execution_count": 30,
      "metadata": {
        "id": "MUVuu6H0w5W7"
      },
      "outputs": [],
      "source": [
        "automotive_brands = (\"Nissan\", \"Toyota\", \"Mitsubishi\", \"MBW\", \"Ford\", \"Audi\")"
      ]
    },
    {
      "cell_type": "markdown",
      "metadata": {
        "id": "A8N1uPDFw5W8"
      },
      "source": [
        "Get first and fourth element in the tuple defined above"
      ]
    },
    {
      "cell_type": "code",
      "execution_count": 31,
      "metadata": {
        "id": "UI4lZE7Xw5W8",
        "outputId": "89cfbb0a-fc0d-48a6-9cff-319617adfa89"
      },
      "outputs": [
        {
          "name": "stdout",
          "output_type": "stream",
          "text": [
            "The first Element is Nissan and the Fourth Element is MBW\n"
          ]
        }
      ],
      "source": [
        "# Write your code here to answer above question\n",
        "\n",
        "print(\"The first Element is \" +automotive_brands[0]+\" and the Fourth Element is \"+ automotive_brands[3])"
      ]
    },
    {
      "cell_type": "markdown",
      "metadata": {
        "id": "rLY_3Cmvw5W9"
      },
      "source": [
        "## Python control structures"
      ]
    },
    {
      "cell_type": "markdown",
      "metadata": {
        "id": "prIhC71uw5W9"
      },
      "source": [
        "In the cell below, I have copied excerpt from *Repetition*, a book written by Peter Handke, Nobel Laureate for Literature in 2019 [Source](https://www.nobelprize.org/prizes/literature/2019/handke/prose/). The goal here is to provide you understanding of various Python control structures. Follow along the questions to work on this."
      ]
    },
    {
      "cell_type": "code",
      "execution_count": 32,
      "metadata": {
        "id": "bhk9duWiw5W-"
      },
      "outputs": [],
      "source": [
        "text = \"\"\"Alone during the day, in my room or out of doors, I thought аbout the waiter more \n",
        "          than about my раrеnts; as I now realize, it was а kind of love. I had nо desire for \n",
        "          contact, I wanted only to bе near him, and I missed him on his day off. When he finally \n",
        "          reappeared, his black-and-white attire brought lifе into the rооm and I acquired а sense \n",
        "          of color. Не always kept his distance, even when off duty, and that may have accounted for \n",
        "          my affection. Оnе day I ran into him in his street clothes at the bus-station buffet, \n",
        "          now in the role of а guest, and there was no difference between the waiter at the hotel \n",
        "          and the young man in the gray suit with а raincoat over his аrm, resting оnе foot on the \n",
        "          railing and slowly munching а sausage while watching the departing buses. And perhaps \n",
        "          this aloofness in combination with his attentiveness аnd poise were the components of \n",
        "          the beauty that so moved me. Even today, in а predicament, I think about that waiter’s \n",
        "          poise; it doesn’t usually help much, but it brings back his image, and for the moment at \n",
        "          least I regain my composure.\n",
        "          \n",
        "          Тoward midnight, оn my last day in the Black Earth Hotel – all the guests and the cook, too, \n",
        "          had left – I passed the open kitchen on my way to my room аnd saw the waiter sitting bу а \n",
        "          tub full of dishes, using а tablecloth to dry them. Later, when I looked out of my window, \n",
        "          he was standing in his shirtsleeves on the bridge across the torrent, holding а pile of \n",
        "          dishes under his right аrm. With his left hand, he took one after another and with а smooth \n",
        "          graceful movement sent them sailing into the water like so many Frisbees.\"\"\""
      ]
    },
    {
      "cell_type": "markdown",
      "metadata": {
        "id": "CY63efLGw5XA"
      },
      "source": [
        "You can use `for` loop to iterate over a sequence. Write a for loop to count how many times does `comma` (,) appear in the text."
      ]
    },
    {
      "cell_type": "code",
      "execution_count": 33,
      "metadata": {
        "id": "snEXMmq0w5XA",
        "outputId": "dcec4e15-94f2-45a2-8d00-a51f432701d8"
      },
      "outputs": [
        {
          "name": "stdout",
          "output_type": "stream",
          "text": [
            "23\n"
          ]
        }
      ],
      "source": [
        "# Write your code here to answer the above question\n",
        "x=0\n",
        "y=','\n",
        "for y in text:\n",
        "    if y == ',':\n",
        "     x+=1\n",
        "print (x)"
      ]
    },
    {
      "cell_type": "markdown",
      "metadata": {
        "id": "cymStwVww5XB"
      },
      "source": [
        "Using for loop, count how many times word `the` is appearing in the text."
      ]
    },
    {
      "cell_type": "code",
      "execution_count": 34,
      "metadata": {
        "id": "JBjHVRPww5XB",
        "outputId": "39dea7c6-fc58-4a39-cbaa-fde3539c6f27"
      },
      "outputs": [
        {
          "name": "stdout",
          "output_type": "stream",
          "text": [
            "22\n"
          ]
        }
      ],
      "source": [
        "# Write your code here to answer the above question\n",
        "a= text.lower().split()\n",
        "z=0\n",
        "for b in a:\n",
        "    if b =='the':\n",
        "        z+=1\n",
        "print(z)"
      ]
    },
    {
      "cell_type": "markdown",
      "metadata": {
        "id": "C6UHkx1Cw5XC"
      },
      "source": [
        "Find unique number of words in the given text. Note: You need to convert text into lower case, clean the text by removing non-desired punctuations, and consider whether you want to consider words such as `bus-station` as a single word or two words by splitting it based on `-`."
      ]
    },
    {
      "cell_type": "code",
      "execution_count": 35,
      "metadata": {
        "id": "kWBvJrdbw5XC",
        "outputId": "2277f7da-847f-4de5-e696-9511b76ff3e5"
      },
      "outputs": [
        {
          "data": {
            "text/plain": [
              "180"
            ]
          },
          "execution_count": 35,
          "metadata": {},
          "output_type": "execute_result"
        }
      ],
      "source": [
        "# Write your code here to answer the above question\n",
        "text = text.lower()\n",
        "words = text.split()\n",
        "words = [word.strip('-.,!;()[]') for word in words]\n",
        "\n",
        "unique = []\n",
        "for word in words:\n",
        "    if word not in unique:\n",
        "        unique.append(word)\n",
        "\n",
        "len(unique)\n"
      ]
    },
    {
      "cell_type": "markdown",
      "metadata": {
        "id": "qqGRn1Yxw5XC"
      },
      "source": [
      ]
    }
  ],
  "metadata": {
    "colab": {
      "include_colab_link": true,
      "name": "Workshop Week 1.ipynb",
      "provenance": []
    },
    "kernelspec": {
      "display_name": "Python 3",
      "language": "python",
      "name": "python3"
    },
    "language_info": {
      "codemirror_mode": {
        "name": "ipython",
        "version": 3
      },
      "file_extension": ".py",
      "mimetype": "text/x-python",
      "name": "python",
      "nbconvert_exporter": "python",
      "pygments_lexer": "ipython3",
      "version": "3.8.8"
    }
  },
  "nbformat": 4,
  "nbformat_minor": 0
}
