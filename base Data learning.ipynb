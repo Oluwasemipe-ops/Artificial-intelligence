{
  "cells": [
    {
      "cell_type": "markdown",
      "metadata": {
        "colab_type": "text",
        "id": "view-in-github"
      },
      "source": [
        "<a href=\"https://colab.research.google.com/github/Oluwasemipe-ops/Artificial-intelligence/blob/main/Workshop_Week_1.ipynb\" target=\"_parent\"><img src=\"https://colab.research.google.com/assets/colab-badge.svg\" alt=\"Open In Colab\"/></a>"
      ]
    },
    {
      "cell_type": "markdown",
      "metadata": {
        "id": "1Dq9zdw5w5Wj"
      },
      "source": [
        "## Python data structures"
      ]
    },
    {
      "cell_type": "markdown",
      "metadata": {
        "id": "S8YKXf83w5Wk"
      },
      "source": [
        "Python provides standard set of data structures in its library. Each data structure provides a particular way of organizing data so it can be accessed efficiently, depending on your use case."
      ]
    },
    {
      "cell_type": "markdown",
      "metadata": {
        "id": "U4YX4h0qw5Wm"
      },
      "source": [
        "### Python List"
      ]
    },
    {
      "cell_type": "markdown",
      "metadata": {
        "id": "oj7kRz1qw5Wq"
      },
      "source": [
        "In the cell below, there are three list. Our goal is to access elements from the list. \n",
        "- Get first element from each list\n",
        "- Get last element from each list\n",
        "- Get third and fourth element from each list"
      ]
    },
    {
      "cell_type": "code",
      "execution_count": 2,
      "metadata": {
        "id": "VP9MMYAsw5Wr"
      },
      "outputs": [],
      "source": [
        "friends_list = [\"Sam\", \"Luke\", \"Ariana\", \"Tim\", \"Peter\", \"Samantha\"]\n",
        "fruits = [\"apple\", \"orange\", \"pear\", \"grapes\", \"pineapple\", \"papaya\", \"banana\"]\n",
        "capital_cities = [\"Sydney\", \"Melbourne\", \"Brisbane\", \"Perth\", \"Adelaide\", \"Darwin\", \"Hobart\"]"
      ]
    },
    {
      "cell_type": "code",
      "execution_count": 3,
      "metadata": {
        "id": "dCso7mMyw5Ws",
        "outputId": "3532508f-629d-4606-ee52-7c107b2c3ba9"
      },
      "outputs": [
        {
          "name": "stdout",
          "output_type": "stream",
          "text": [
            "The first Elements are: Luke, orange and Melbourne\n",
            "The Last Elements are: Samantha, banana and Hobart\n",
            "The third and fourth Elements are: Ariana and Tim, pear and grapes, Brisbane and Perth\n"
          ]
        }
      ],
      "source": [
        "# Write your code here to answer above question.\n",
        "print( \"The first Elements are: \" +friends_list[1] +\", \"+ fruits[1] +\" and \"+ capital_cities[1])\n",
        "print( \"The Last Elements are: \" +friends_list[-1] +\", \"+ fruits[-1] +\" and \"+ capital_cities[-1])\n",
        "print( \"The third and fourth Elements are: \" +friends_list[2] +\" and \"+friends_list[3] +\", \"+ fruits[2] + \" and \"+ fruits[3]+\", \"+ capital_cities[2]+\" and \"+ capital_cities[3])\n",
        "\n"
      ]
    },
    {
      "cell_type": "markdown",
      "metadata": {
        "id": "sUqLOxjew5Wv"
      },
      "source": [
        "### Python Dictionary"
      ]
    },
    {
      "cell_type": "markdown",
      "metadata": {
        "id": "3P6Futy1w5Wv"
      },
      "source": [
        "A dictionary is a collection of items. Each item in a dictionary is stored as a key-value pair. \n",
        "In the cell below, there are three dictionaries. Our goal is to retrieve value based on the key information.\n",
        "- Get the capital of South Australia (SA)\n",
        "- Get the address of the employee\n",
        "- Get marks obtained by student for the unit ISYS545"
      ]
    },
    {
      "cell_type": "code",
      "execution_count": 4,
      "metadata": {
        "id": "OS3NXrdcw5Ww"
      },
      "outputs": [],
      "source": [
        "capital = {'NSW': 'Sydney', 'VIC': 'Melbourne', 'SA': 'Adelaide', 'WA': 'Perth', 'QLD': 'Brisbane'}\n",
        "employee = {'name': 'John Citizen', 'age': 47, 'Address': '37 Sydney Street, NSW'}\n",
        "unit_marks = {'COMP8325': 88, 'COMP2345': 92, 'ISYS545': 72, 'COMP8472': 85}"
      ]
    },
    {
      "cell_type": "code",
      "execution_count": 5,
      "metadata": {
        "id": "KP7YGUYOw5Wx",
        "outputId": "ee197976-dd4c-4383-f528-e7d32cc76586"
      },
      "outputs": [
        {
          "name": "stdout",
          "output_type": "stream",
          "text": [
            "Adelaide\n",
            "37 Sydney Street, NSW\n",
            "72\n"
          ]
        }
      ],
      "source": [
        "# Write your code hereto answer above questions\n",
        "print(capital['SA'])\n",
        "print(employee['Address'])\n",
        "print(unit_marks['ISYS545'])"
      ]
    },
    {
      "cell_type": "markdown",
      "metadata": {
        "id": "m_LP9Ui_w5Wx"
      },
      "source": [
        "### Python String"
      ]
    },
    {
      "cell_type": "markdown",
      "metadata": {
        "id": "jEoDL6XWw5Wx"
      },
      "source": [
        "A string is a sequence of characters enclosed either inside single quotes, double quotes, or even triple quotes. If string is long and encompasses multiline, we generally use triple quotes to represent it. Python has a set of built-in methods that you can use on strings. A non-exhaustive list can be found [here](https://www.w3schools.com/python/python_ref_string.asp).\n",
        "\n",
        "Below, we create three strings to represent unit code, unit name, and its description. Note we are using different set of quotes to represent strings and they are equivalent in terms of representing strings in Python."
      ]
    },
    {
      "cell_type": "code",
      "execution_count": 6,
      "metadata": {
        "id": "xRXfHIO7w5Wy"
      },
      "outputs": [],
      "source": [
        "code = \"COMP8325\"\n",
        "title = \"Applications of Artificial Intelligence for Cyber Security\"\n",
        "description = \"\"\"This unit deals with the applications of Artificial Intelligence \n",
        "                in the field of Cyber Security. Topics covered include machine learning-based \n",
        "                intrusion detection systems, malware detection, AI as a service, digital forensics, \n",
        "                incident response leveraging SIEM data. Special attention will be given to the \n",
        "                concept of adversarial machine learning.\"\"\""
      ]
    },
    {
      "cell_type": "markdown",
      "metadata": {
        "id": "v1FnIkaJw5Wz"
      },
      "source": [
        "For each of the given strings, get list of words using [split()](https://docs.python.org/3/library/stdtypes.html) method and count number of words to get length of each string."
      ]
    },
    {
      "cell_type": "code",
      "execution_count": 7,
      "metadata": {
        "id": "E2pjXe-gw5Wz",
        "outputId": "8eeed079-796e-46f8-861a-8e873bd9b511"
      },
      "outputs": [
        {
          "name": "stdout",
          "output_type": "stream",
          "text": [
            "1\n",
            "7\n",
            "48\n"
          ]
        }
      ],
      "source": [
        "print(len(code.split()))\n",
        "print(len(title.split()))\n",
        "print(len(description.split()))\n"
      ]
    },
    {
      "cell_type": "markdown",
      "metadata": {
        "id": "hgot9H8Lw5W0"
      },
      "source": [
        "When counting length of a string, it is important that you convert string to lower case so that word `The` and `the` are considered as same word. It is because Python is a case sensitive language and treat variable differently depending on how we define it."
      ]
    },
    {
      "cell_type": "markdown",
      "metadata": {
        "id": "jbE6ewx7w5W1"
      },
      "source": [
        "Convert the above string to lower case using lower() function and check whether you see any difference in terms of its length. To find out build-in function for converting string to lower case, check Python 3 documentation."
      ]
    },
    {
      "cell_type": "code",
      "execution_count": 8,
      "metadata": {
        "id": "2XGcB3Huw5W2",
        "outputId": "977374df-c6ae-45b2-aa0a-a13f2ee4df81"
      },
      "outputs": [
        {
          "name": "stdout",
          "output_type": "stream",
          "text": [
            "1\n",
            "7\n",
            "48\n"
          ]
        }
      ],
      "source": [
        "print(len(code.lower().split()))\n",
        "print(len(title.lower().split()))\n",
        "print(len(description.lower().split()))"
      ]
    },
    {
      "cell_type": "markdown",
      "metadata": {
        "id": "ey4PdLKAw5W3"
      },
      "source": [
        "In real-world applications, we do not get very clean text data. You can imagine how Twitter data can be noisy. To give you an idea, we define a string containing various punctuation. Using Regular Expression (regex, in short), try to clean the given noisy string. You can find [this regex tutorial](https://regexone.com/) helpful for this exercise."
      ]
    },
    {
      "cell_type": "code",
      "execution_count": 9,
      "metadata": {
        "id": "H3cUMszFw5W4"
      },
      "outputs": [],
      "source": [
        "noisy_string = \"Th!is ?is a$ s@en!!te?!nce.\""
      ]
    },
    {
      "cell_type": "code",
      "execution_count": 10,
      "metadata": {
        "id": "eaL0umpXw5W5"
      },
      "outputs": [
        {
          "name": "stdout",
          "output_type": "stream",
          "text": [
            "['This', 'is', 'a', 'sentence']\n",
            "['This', 'is', 'a', 'sentence']\n",
            "Thisisasentence\n"
          ]
        }
      ],
      "source": [
        "import re\n",
        "\n",
        "# Code to split the sentence given into an array for loop function on each word\n",
        "split_string = noisy_string.split()\n",
        "\n",
        "# print(split_string)\n",
        "\n",
        "# For Loop result container.\n",
        "new_string = []\n",
        "sentence = ()\n",
        "\n",
        "clean_exp_1 = re.sub(r'[^\\w]', \"\", noisy_string)\n",
        "# For loop removing special characters from each array content\n",
        "\n",
        "for x in split_string:\n",
        "    clean_exp = re.sub(r'[^\\w]', \"\", x)\n",
        "    \n",
        "    new_string.append(clean_exp)\n",
        "    sentence = new_string \n",
        "    \n",
        "print(new_string)\n",
        "print(sentence)\n",
        "print(clean_exp_1)\n",
        "    \n",
        "# Currently unable to create a sentence from list or For loop, there might be a way around this, have to research deeper.\n",
        "\n"
      ]
    },
    {
      "cell_type": "markdown",
      "metadata": {
        "id": "bLx0_us7w5W6"
      },
      "source": [
        "### Python Tuples"
      ]
    },
    {
      "cell_type": "markdown",
      "metadata": {
        "id": "LuW4GSCRw5W7"
      },
      "source": [
        "Tuples are also Python built-in data types which are immutable. Once defined, no element can be added or deleted from a tuple. This functionality is useful in situations where you might want someone to process data but don't want to manipulate it. We define tuples by placing round brackets around the data elements. Tuple items are indexed with first item having index [0], second item having index [1], and so on."
      ]
    },
    {
      "cell_type": "code",
      "execution_count": 11,
      "metadata": {
        "id": "MUVuu6H0w5W7"
      },
      "outputs": [],
      "source": [
        "automotive_brands = (\"Nissan\", \"Toyota\", \"Mitsubishi\", \"MBW\", \"Ford\", \"Audi\")"
      ]
    },
    {
      "cell_type": "markdown",
      "metadata": {
        "id": "A8N1uPDFw5W8"
      },
      "source": [
        "Get first and fourth element in the tuple defined above"
      ]
    },
    {
      "cell_type": "code",
      "execution_count": 12,
      "metadata": {
        "id": "UI4lZE7Xw5W8",
        "outputId": "89cfbb0a-fc0d-48a6-9cff-319617adfa89"
      },
      "outputs": [
        {
          "name": "stdout",
          "output_type": "stream",
          "text": [
            "The first Element is Nissan and the Fourth Element is MBW\n"
          ]
        }
      ],
      "source": [
        "# Write your code here to answer above question\n",
        "\n",
        "print(\"The first Element is \" +automotive_brands[0]+\" and the Fourth Element is \"+ automotive_brands[3])"
      ]
    },
    {
      "cell_type": "markdown",
      "metadata": {
        "id": "rLY_3Cmvw5W9"
      },
      "source": [
        "## Python control structures"
      ]
    },
    {
      "cell_type": "markdown",
      "metadata": {
        "id": "prIhC71uw5W9"
      },
      "source": [
        "In the cell below, I have copied excerpt from *Repetition*, a book written by Peter Handke, Nobel Laureate for Literature in 2019 [Source](https://www.nobelprize.org/prizes/literature/2019/handke/prose/). The goal here is to provide you understanding of various Python control structures. Follow along the questions to work on this."
      ]
    },
    {
      "cell_type": "code",
      "execution_count": 13,
      "metadata": {
        "id": "bhk9duWiw5W-"
      },
      "outputs": [],
      "source": [
        "text = \"\"\"Alone during the day, in my room or out of doors, I thought аbout the waiter more \n",
        "          than about my раrеnts; as I now realize, it was а kind of love. I had nо desire for \n",
        "          contact, I wanted only to bе near him, and I missed him on his day off. When he finally \n",
        "          reappeared, his black-and-white attire brought lifе into the rооm and I acquired а sense \n",
        "          of color. Не always kept his distance, even when off duty, and that may have accounted for \n",
        "          my affection. Оnе day I ran into him in his street clothes at the bus-station buffet, \n",
        "          now in the role of а guest, and there was no difference between the waiter at the hotel \n",
        "          and the young man in the gray suit with а raincoat over his аrm, resting оnе foot on the \n",
        "          railing and slowly munching а sausage while watching the departing buses. And perhaps \n",
        "          this aloofness in combination with his attentiveness аnd poise were the components of \n",
        "          the beauty that so moved me. Even today, in а predicament, I think about that waiter’s \n",
        "          poise; it doesn’t usually help much, but it brings back his image, and for the moment at \n",
        "          least I regain my composure.\n",
        "          \n",
        "          Тoward midnight, оn my last day in the Black Earth Hotel – all the guests and the cook, too, \n",
        "          had left – I passed the open kitchen on my way to my room аnd saw the waiter sitting bу а \n",
        "          tub full of dishes, using а tablecloth to dry them. Later, when I looked out of my window, \n",
        "          he was standing in his shirtsleeves on the bridge across the torrent, holding а pile of \n",
        "          dishes under his right аrm. With his left hand, he took one after another and with а smooth \n",
        "          graceful movement sent them sailing into the water like so many Frisbees.\"\"\""
      ]
    },
    {
      "cell_type": "markdown",
      "metadata": {
        "id": "CY63efLGw5XA"
      },
      "source": [
        "You can use `for` loop to iterate over a sequence. Write a for loop to count how many times does `comma` (,) appear in the text."
      ]
    },
    {
      "cell_type": "code",
      "execution_count": 14,
      "metadata": {
        "id": "snEXMmq0w5XA",
        "outputId": "dcec4e15-94f2-45a2-8d00-a51f432701d8"
      },
      "outputs": [
        {
          "name": "stdout",
          "output_type": "stream",
          "text": [
            "23\n"
          ]
        }
      ],
      "source": [
        "# Write your code here to answer the above question\n",
        "x=0\n",
        "y=','\n",
        "for y in text:\n",
        "    if y == ',':\n",
        "     x+=1\n",
        "print (x)"
      ]
    },
    {
      "cell_type": "markdown",
      "metadata": {
        "id": "cymStwVww5XB"
      },
      "source": [
        "Using for loop, count how many times word `the` is appearing in the text."
      ]
    },
    {
      "cell_type": "code",
      "execution_count": 15,
      "metadata": {
        "id": "JBjHVRPww5XB",
        "outputId": "39dea7c6-fc58-4a39-cbaa-fde3539c6f27"
      },
      "outputs": [
        {
          "name": "stdout",
          "output_type": "stream",
          "text": [
            "22\n"
          ]
        }
      ],
      "source": [
        "# Write your code here to answer the above question\n",
        "a= text.lower().split()\n",
        "z=0\n",
        "for b in a:\n",
        "    if b =='the':\n",
        "        z+=1\n",
        "print(z)"
      ]
    },
    {
      "cell_type": "markdown",
      "metadata": {
        "id": "C6UHkx1Cw5XC"
      },
      "source": [
        "Find unique number of words in the given text. Note: You need to convert text into lower case, clean the text by removing non-desired punctuations, and consider whether you want to consider words such as `bus-station` as a single word or two words by splitting it based on `-`."
      ]
    },
    {
      "cell_type": "code",
      "execution_count": 16,
      "metadata": {
        "id": "kWBvJrdbw5XC",
        "outputId": "2277f7da-847f-4de5-e696-9511b76ff3e5"
      },
      "outputs": [
        {
          "data": {
            "text/plain": [
              "180"
            ]
          },
          "execution_count": 16,
          "metadata": {},
          "output_type": "execute_result"
        }
      ],
      "source": [
        "# Write your code here to answer the above question\n",
        "text = text.lower()\n",
        "words = text.split()\n",
        "words = [word.strip('-.,!;()[]') for word in words]\n",
        "\n",
        "unique = []\n",
        "for word in words:\n",
        "    if word not in unique:\n",
        "        unique.append(word)\n",
        "\n",
        "len(unique)\n"
      ]
    },
    {
      "cell_type": "markdown",
      "metadata": {
        "id": "qqGRn1Yxw5XC"
      },
      "source": []
    }
  ],
  "metadata": {
    "colab": {
      "include_colab_link": true,
      "name": "Workshop Week 1.ipynb",
      "provenance": []
    },
    "kernelspec": {
      "display_name": "Python 3",
      "language": "python",
      "name": "python3"
    },
    "language_info": {
      "codemirror_mode": {
        "name": "ipython",
        "version": 3
      },
      "file_extension": ".py",
      "mimetype": "text/x-python",
      "name": "python",
      "nbconvert_exporter": "python",
      "pygments_lexer": "ipython3",
      "version": "3.12.0"
    }
  },
  "nbformat": 4,
  "nbformat_minor": 0
}
